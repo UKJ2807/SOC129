{
 "cells": [
  {
   "cell_type": "code",
   "execution_count": 7,
   "id": "50091f61-92ca-4dd5-ba5c-241b292bb3cd",
   "metadata": {},
   "outputs": [
    {
     "name": "stdout",
     "output_type": "stream",
     "text": [
      "Index(['adult', 'belongs_to_collection', 'budget', 'genres', 'homepage', 'id',\n",
      "       'imdb_id', 'original_language', 'original_title', 'overview',\n",
      "       'popularity', 'poster_path', 'production_companies',\n",
      "       'production_countries', 'release_date', 'revenue', 'runtime',\n",
      "       'spoken_languages', 'status', 'tagline', 'title', 'video',\n",
      "       'vote_average', 'vote_count', 'cast', 'crew', 'keywords'],\n",
      "      dtype='object')\n",
      "(46628, 27)\n"
     ]
    }
   ],
   "source": [
    "import pandas as pd\n",
    "df1=pd.read_csv(\"credits.csv\", dtype= {'id' : str})\n",
    "df2=pd.read_csv(\"keywords.csv\", dtype= {'id' : str})\n",
    "df3=pd.read_csv(\"movies_metadata.csv\", dtype= {'id' : str}, low_memory=False)\n",
    "df4=pd.read_csv(\"links.csv\", dtype= {'tmdbId' : str})\n",
    "merge1=df1.merge(df2, how='inner')\n",
    "master_dataset=df3.merge(merge1, how='inner')\n",
    "print(master_dataset.columns)\n",
    "master_dataset['id'] = master_dataset['id'].str.strip()\n",
    "df4['tmdbId'] = df4['tmdbId'].str.strip()\n",
    "final_dataset = master_dataset[master_dataset['id'].isin(df4['tmdbId'])]\n",
    "print(final_dataset.shape)"
   ]
  },
  {
   "cell_type": "code",
   "execution_count": null,
   "id": "6a5b9e82-f47e-458c-9d2b-38516d974823",
   "metadata": {},
   "outputs": [],
   "source": []
  }
 ],
 "metadata": {
  "kernelspec": {
   "display_name": "Python 3 (ipykernel)",
   "language": "python",
   "name": "python3"
  },
  "language_info": {
   "codemirror_mode": {
    "name": "ipython",
    "version": 3
   },
   "file_extension": ".py",
   "mimetype": "text/x-python",
   "name": "python",
   "nbconvert_exporter": "python",
   "pygments_lexer": "ipython3",
   "version": "3.13.3"
  }
 },
 "nbformat": 4,
 "nbformat_minor": 5
}
